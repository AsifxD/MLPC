{
  "cells": [
    {
      "cell_type": "code",
      "source": [
        "from google.colab import drive\n",
        "drive.mount('/content/drive')"
      ],
      "metadata": {
        "id": "5eKMNYuwieD6",
        "outputId": "5e8d805f-ea32-4822-96c5-bc379bb8bdec",
        "colab": {
          "base_uri": "https://localhost:8080/"
        }
      },
      "execution_count": 1,
      "outputs": [
        {
          "output_type": "stream",
          "name": "stdout",
          "text": [
            "Mounted at /content/drive\n"
          ]
        }
      ]
    },
    {
      "cell_type": "code",
      "source": [
        "import geopandas as gpd\n",
        "\n",
        "\n",
        "\n",
        "shapefile_path = r\"/content/drive/MyDrive/LandslideInventory_FarWesternNepal/LandslideInventory_FarWesternNepal\"\n",
        "\n",
        "# Name of the output Excel file\n",
        "output_excel = \"LandslideInventory_FarWesternNepal_Points.xlsx\"\n",
        "\n",
        "\n",
        "# Load the shapefile\n",
        "print(\" Reading shapefile...\")\n",
        "gdf = gpd.read_file(shapefile_path)\n",
        "\n",
        "\n",
        "print(f\" Loaded {len(gdf)} records with {len(gdf.columns)} columns.\")\n",
        "\n",
        "# Optional: Drop geometry column\n",
        "if 'geometry' in gdf.columns:\n",
        "   gdf = gdf.drop(columns='geometry')\n",
        "\n",
        "# Save to Excel\n",
        "print(f\" Saving to Excel file: {output_excel} ...\")\n",
        "gdf.to_excel(output_excel, index=False)\n",
        "\n",
        "print(f\" Done! Excel file saved as: {output_excel}\")\n"
      ],
      "metadata": {
        "id": "dWLpQr7bikSi",
        "outputId": "30a2a50b-311d-4b2c-c778-70d576c63311",
        "colab": {
          "base_uri": "https://localhost:8080/"
        }
      },
      "execution_count": 2,
      "outputs": [
        {
          "output_type": "stream",
          "name": "stdout",
          "text": [
            " Reading shapefile...\n"
          ]
        },
        {
          "output_type": "stream",
          "name": "stderr",
          "text": [
            "/usr/local/lib/python3.11/dist-packages/pyogrio/geopandas.py:275: UserWarning: More than one layer found in 'LandslideInventory_FarWesternNepal': 'LandslideInventory_FarWesternNepal_Pol' (default), 'LandslideInventory_FarWesternNepal_Points', 'LandslideInventory_FarWesternNepal_AOI', 'LandslideInventory_FarWesternNepal_Points_Dated1992_2018'. Specify layer parameter to avoid this warning.\n",
            "  result = read_func(\n"
          ]
        },
        {
          "output_type": "stream",
          "name": "stdout",
          "text": [
            " Loaded 26350 records with 44 columns.\n",
            " Saving to Excel file: LandslideInventory_FarWesternNepal_Points.xlsx ...\n",
            " Done! Excel file saved as: LandslideInventory_FarWesternNepal_Points.xlsx\n"
          ]
        }
      ]
    },
    {
      "cell_type": "code",
      "source": [
        "from google.colab import files\n",
        "\n",
        "files.download('LandslideInventory_FarWesternNepal_Points.xlsx')\n"
      ],
      "metadata": {
        "id": "Eyn336rDjH-k",
        "outputId": "be37db17-57bb-4241-ce08-1efae2be827c",
        "colab": {
          "base_uri": "https://localhost:8080/",
          "height": 17
        }
      },
      "execution_count": null,
      "outputs": [
        {
          "output_type": "display_data",
          "data": {
            "text/plain": [
              "<IPython.core.display.Javascript object>"
            ],
            "application/javascript": [
              "\n",
              "    async function download(id, filename, size) {\n",
              "      if (!google.colab.kernel.accessAllowed) {\n",
              "        return;\n",
              "      }\n",
              "      const div = document.createElement('div');\n",
              "      const label = document.createElement('label');\n",
              "      label.textContent = `Downloading \"${filename}\": `;\n",
              "      div.appendChild(label);\n",
              "      const progress = document.createElement('progress');\n",
              "      progress.max = size;\n",
              "      div.appendChild(progress);\n",
              "      document.body.appendChild(div);\n",
              "\n",
              "      const buffers = [];\n",
              "      let downloaded = 0;\n",
              "\n",
              "      const channel = await google.colab.kernel.comms.open(id);\n",
              "      // Send a message to notify the kernel that we're ready.\n",
              "      channel.send({})\n",
              "\n",
              "      for await (const message of channel.messages) {\n",
              "        // Send a message to notify the kernel that we're ready.\n",
              "        channel.send({})\n",
              "        if (message.buffers) {\n",
              "          for (const buffer of message.buffers) {\n",
              "            buffers.push(buffer);\n",
              "            downloaded += buffer.byteLength;\n",
              "            progress.value = downloaded;\n",
              "          }\n",
              "        }\n",
              "      }\n",
              "      const blob = new Blob(buffers, {type: 'application/binary'});\n",
              "      const a = document.createElement('a');\n",
              "      a.href = window.URL.createObjectURL(blob);\n",
              "      a.download = filename;\n",
              "      div.appendChild(a);\n",
              "      a.click();\n",
              "      div.remove();\n",
              "    }\n",
              "  "
            ]
          },
          "metadata": {}
        },
        {
          "output_type": "display_data",
          "data": {
            "text/plain": [
              "<IPython.core.display.Javascript object>"
            ],
            "application/javascript": [
              "download(\"download_1da8a68d-f368-422d-922a-594123a7975b\", \"LandslideInventory_FarWesternNepal_Points.xlsx\", 852837)"
            ]
          },
          "metadata": {}
        }
      ]
    },
    {
      "cell_type": "code",
      "source": [],
      "metadata": {
        "id": "-HS9u_KFjW7q"
      },
      "execution_count": null,
      "outputs": []
    }
  ],
  "metadata": {
    "colab": {
      "provenance": []
    },
    "kernelspec": {
      "display_name": "Python 3",
      "name": "python3"
    }
  },
  "nbformat": 4,
  "nbformat_minor": 0
}